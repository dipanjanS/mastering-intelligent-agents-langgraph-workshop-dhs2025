{
  "nbformat": 4,
  "nbformat_minor": 0,
  "metadata": {
    "colab": {
      "provenance": [],
      "authorship_tag": "ABX9TyPzCvZQBLWHKeaBw7oNMr+G",
      "include_colab_link": true
    },
    "kernelspec": {
      "name": "python3",
      "display_name": "Python 3"
    },
    "language_info": {
      "name": "python"
    }
  },
  "cells": [
    {
      "cell_type": "markdown",
      "metadata": {
        "id": "view-in-github",
        "colab_type": "text"
      },
      "source": [
        "<a href=\"https://colab.research.google.com/github/dipanjanS/mastering-intelligent-agents-langgraph-workshop-dhs2025/blob/main/Module-3-Context-Engineering-for-Agentic-AI-Systems/M3LC2_Building_Agentic_AI_Systems_with_MCP_Servers_and_Clients_from_Scratch.ipynb\" target=\"_parent\"><img src=\"https://colab.research.google.com/assets/colab-badge.svg\" alt=\"Open In Colab\"/></a>"
      ]
    },
    {
      "cell_type": "markdown",
      "source": [
        "# Building Agentic AI Systems with MCP Servers & Clients from Scratch"
      ],
      "metadata": {
        "id": "QnFwtV28vV7A"
      }
    },
    {
      "cell_type": "markdown",
      "source": [
        "![](https://i.imgur.com/s9AFYsn.png)"
      ],
      "metadata": {
        "id": "2ATQg77SXso_"
      }
    },
    {
      "cell_type": "markdown",
      "source": [
        "## Installing Dependencies"
      ],
      "metadata": {
        "id": "SSax2dz0L_Ks"
      }
    },
    {
      "cell_type": "code",
      "execution_count": null,
      "metadata": {
        "id": "L2Uwy5SFgMGc"
      },
      "outputs": [],
      "source": [
        "!pip install langchain==0.3.27 langchain-openai==0.3.30 langgraph==0.6.5 langchain-mcp-adapters==0.1.9 mcp==1.12.4 --quiet"
      ]
    },
    {
      "cell_type": "markdown",
      "source": [
        "## Get OpenAI Key Environment File"
      ],
      "metadata": {
        "id": "e89SAepwhZrD"
      }
    },
    {
      "cell_type": "code",
      "source": [
        "!gdown 1dyWtBg0RCg_WqzsuMWhvJwrN8_GGDmbI"
      ],
      "metadata": {
        "id": "WrvSnmWbhifm"
      },
      "execution_count": null,
      "outputs": []
    },
    {
      "cell_type": "markdown",
      "source": [
        "## Add your OpenAI Key in the Environment File\n",
        "\n",
        "Open up the `.env` file and enter your OpenAI key in the place shown below and then save the file\n",
        "\n",
        "![](https://i.imgur.com/ThkufIW.png)"
      ],
      "metadata": {
        "id": "CRSi1D-Bh0we"
      }
    },
    {
      "cell_type": "markdown",
      "source": [
        "## Building a MCP Server for the Finance Department\n",
        "\n",
        "This section creates a **Finance MCP Server** using FastMCP.  \n",
        "The server runs on **port 8010** with `mcp.run(transport=\"streamable-http\")`.\n",
        "\n",
        "It exposes two LLM-driven finance advisory tools:\n",
        "\n",
        "- **`ops_spend_guidance(department: str, context: str = \"\") -> str`**  \n",
        "  Provides practical spend guidance for a department, covering approval thresholds, PO requirements, vendor payment terms, and quick guardrails.  \n",
        "  Uses static snapshots from the `DEPARTMENTS` dictionary combined with GPT-4o-mini to produce tailored recommendations.\n",
        "\n",
        "- **`recommend_budget_actions(department: str, narrative: str = \"\") -> str`**  \n",
        "  Summarizes the department’s budget status and suggests 3–5 actions to stay on track.  \n",
        "  Accepts an optional narrative to guide the analysis and outputs actionable recommendations.\n",
        "\n",
        "The server is initialized with `FastMCP(name=\"FinanceServer\", instructions=...)` which documents its tools for discovery by clients.\n"
      ],
      "metadata": {
        "id": "ZFBqXmzUG1sG"
      }
    },
    {
      "cell_type": "code",
      "source": [
        "%%writefile finance_mcp_server.py\n",
        "from mcp.server.fastmcp import FastMCP\n",
        "from langchain_openai import ChatOpenAI\n",
        "from dotenv import load_dotenv\n",
        "import os\n",
        "\n",
        "load_dotenv()\n",
        "llm = ChatOpenAI(model=\"gpt-4o-mini\", temperature=0)\n",
        "\n",
        "# Small static department snapshots used for LLM reasoning\n",
        "DEPARTMENTS = {\n",
        "    \"Engineering\": {\n",
        "        \"fy\": \"2025\", \"budget\": 2_400_000, \"spent_ytd\": 980_000, \"headcount\": 18,\n",
        "        \"open_initiatives\": [\"Observability uplift\", \"Inference cost control\", \"Data platform hardening\"]\n",
        "    },\n",
        "    \"Operations\": {\n",
        "        \"fy\": \"2025\", \"budget\": 6_000_000, \"spent_ytd\": 2_850_000, \"headcount\": 72,\n",
        "        \"open_initiatives\": [\"Warehouse automation pilot\", \"Route optimization v2\", \"Safety training refresh\"]\n",
        "    },\n",
        "    \"Sales\": {\n",
        "        \"fy\": \"2025\", \"budget\": 3_600_000, \"spent_ytd\": 1_240_000, \"headcount\": 24,\n",
        "        \"open_initiatives\": [\"Partner channel revamp\", \"Pricing experiments\", \"New region PoC\"]\n",
        "    }\n",
        "}\n",
        "\n",
        "mcp = FastMCP(\n",
        "    name=\"FinanceServer\",\n",
        "    instructions=\"\"\"\n",
        "Finance tools with LLM reasoning over small static snapshots.\n",
        "\n",
        "TOOLS\n",
        "- ops_spend_guidance(department, context=\"\"):\n",
        "  Practical guidance for Operations (or any function) on spend controls:\n",
        "  approval tiers, PO usage, vendor terms, and quick guardrails.\n",
        "\n",
        "- recommend_budget_actions(department, narrative=\"\"):\n",
        "  Short summary of budget posture and top actions to stay on plan.\n",
        "\n",
        "All tool responses are plain text generated by the LLM.\n",
        "\"\"\",\n",
        "    port=8010\n",
        ")\n",
        "\n",
        "@mcp.tool()\n",
        "def ops_spend_guidance(department: str, context: str = \"\") -> str:\n",
        "    \"\"\"\n",
        "    Guidance on spend controls for the department (approval tiers, PO usage, vendor terms).\n",
        "    Returns free-form text (bullets recommended).\n",
        "    \"\"\"\n",
        "    snap = DEPARTMENTS.get(department)\n",
        "    if not snap:\n",
        "        return f\"[Finance] Unknown department: {department}\"\n",
        "    prompt = f\"\"\"\n",
        "You are a finance partner. Using the department snapshot and optional context,\n",
        "give practical spend guidance: approval thresholds, PO requirements, vendor payment terms,\n",
        "and any quick guardrails. Keep it short, concrete, and actionable.\n",
        "\n",
        "Department snapshot:\n",
        "{snap}\n",
        "\n",
        "Additional context (may be empty):\n",
        "{context}\n",
        "\n",
        "Output: a short bullet list with specific recommendations and a one-line rationale where needed.\n",
        "\"\"\"\n",
        "    return llm.invoke(prompt).content\n",
        "\n",
        "@mcp.tool()\n",
        "def recommend_budget_actions(department: str, narrative: str = \"\") -> str:\n",
        "    \"\"\"\n",
        "    Budget summary + top actions. Returns free-form text.\n",
        "    \"\"\"\n",
        "    snap = DEPARTMENTS.get(department)\n",
        "    if not snap:\n",
        "        return f\"[Finance] Unknown department: {department}\"\n",
        "    prompt = f\"\"\"\n",
        "You are a finance planner. Using the department snapshot and optional narrative,\n",
        "summarize the current budget posture and list 3–5 specific actions to stay on plan.\n",
        "Mention amounts where useful and focus on next steps.\n",
        "\n",
        "Department snapshot:\n",
        "{snap}\n",
        "\n",
        "Narrative (may be empty):\n",
        "{narrative}\n",
        "\n",
        "Output: comprehensive summary + numbered actions.\n",
        "\"\"\"\n",
        "    return llm.invoke(prompt).content\n",
        "\n",
        "if __name__ == \"__main__\":\n",
        "    print(\"Starting Finance MCP Server on http://localhost:8010/mcp ...\")\n",
        "    mcp.run(transport=\"streamable-http\")"
      ],
      "metadata": {
        "id": "eCj6N0LRgSMy"
      },
      "execution_count": null,
      "outputs": []
    },
    {
      "cell_type": "markdown",
      "source": [
        "## Deploying the MCP Server for the Finance Department\n",
        "\n",
        "We launch the Finance MCP server as a background process using **streamable HTTP**.  \n",
        "- Endpoint: `http://localhost:8010/mcp`  \n",
        "- Logs: written to `finance_server_output.log`  \n",
        "\n",
        "Once running, its tools are accessible to the client agent for discovery and use."
      ],
      "metadata": {
        "id": "sr9bchkOG5-i"
      }
    },
    {
      "cell_type": "code",
      "source": [
        "!nohup python /content/finance_mcp_server.py > finance_server_output.log 2>&1 &"
      ],
      "metadata": {
        "id": "iZ0kGm1Fgr7b"
      },
      "execution_count": null,
      "outputs": []
    },
    {
      "cell_type": "markdown",
      "source": [
        "![](https://i.imgur.com/8n4J8qV.png)"
      ],
      "metadata": {
        "id": "rojrlRCvH2P5"
      }
    },
    {
      "cell_type": "markdown",
      "source": [
        "## Building a MCP Server for the HR Department\n",
        "\n",
        "This section defines an **HR MCP Server** using FastMCP, configured to run on **port 8011** with `mcp.run(transport=\"streamable-http\")`.\n",
        "\n",
        "It registers two HR-focused tools:\n",
        "\n",
        "- **`get_employee_details(employee_id: str) -> dict`**  \n",
        "  Returns employee information including ID, name, role, and department.  \n",
        "  Example: `{\"employee_id\": \"123\", \"name\": \"Alice Johnson\", \"role\": \"Software Engineer\", \"department\": \"Tech\"}`\n",
        "\n",
        "- **`check_leave_balance(employee_id: str) -> dict`**  \n",
        "  Provides the leave balance for a given employee.  \n",
        "  Example: `{\"employee_id\": \"123\", \"leave_balance\": 12}`\n",
        "\n",
        "As with Finance, the HR server includes clear instructions in its constructor for client-side discovery."
      ],
      "metadata": {
        "id": "4IhPSbCJH-TS"
      }
    },
    {
      "cell_type": "code",
      "source": [
        "%%writefile hr_mcp_server.py\n",
        "\n",
        "from mcp.server.fastmcp import FastMCP\n",
        "from langchain_openai import ChatOpenAI\n",
        "from dotenv import load_dotenv\n",
        "import os\n",
        "\n",
        "load_dotenv()\n",
        "llm = ChatOpenAI(model=\"gpt-4o-mini\", temperature=0)\n",
        "\n",
        "# Small HR snapshots\n",
        "EMPLOYEES = {\n",
        "    \"EMP456\": {\n",
        "        \"name\": \"Anita Rao\", \"role\": \"Senior Analyst\", \"location\": \"Bengaluru\",\n",
        "        \"exempt_status\": \"exempt\", \"pto_balance_days\": 12, \"on_critical_project\": False,\n",
        "        \"manager\": \"MGR-22\"\n",
        "    },\n",
        "    \"EMP789\": {\n",
        "        \"name\": \"Vikram Shah\", \"role\": \"Ops Lead\", \"location\": \"Mumbai\",\n",
        "        \"exempt_status\": \"exempt\", \"pto_balance_days\": 5, \"on_critical_project\": True,\n",
        "        \"manager\": \"MGR-31\"\n",
        "    }\n",
        "}\n",
        "\n",
        "POLICIES = {\n",
        "    \"pto_accrual\": \"Employees accrue PTO each pay period; manager approval required. Blackout periods may apply.\",\n",
        "    \"carryover\": \"Up to 10 PTO days may be carried forward to next year.\",\n",
        "    \"critical_project_coordination\": \"Coordinate with project owner if employee is on a critical project.\",\n",
        "    \"general_holidays\": \"Company observes standard public holidays as announced annually.\"\n",
        "}\n",
        "\n",
        "mcp = FastMCP(\n",
        "    name=\"HRServer\",\n",
        "    instructions=\"\"\"\n",
        "HR tools with LLM reasoning over small static snapshots.\n",
        "\n",
        "TOOLS\n",
        "- leave_decision(employee_id, request):\n",
        "  Approve / approve with conditions / deny with a brief rationale and 2–3 next steps.\n",
        "\n",
        "- answer_policy(question):\n",
        "  Short policy guidance referencing the small policy dictionary.\n",
        "\n",
        "All responses are plain text from the LLM.\n",
        "\"\"\",\n",
        "    port=8011\n",
        ")\n",
        "\n",
        "@mcp.tool()\n",
        "def leave_decision(employee_id: str, request: str) -> str:\n",
        "    \"\"\"\n",
        "    request example: {\"dates\":\"2025-09-02 to 2025-09-06\",\"reason\":\"family event\",\"backup\":\"Alice\"}\n",
        "    Returns free-form text with decision + rationale + next steps.\n",
        "    \"\"\"\n",
        "    emp = EMPLOYEES.get(employee_id)\n",
        "    if not emp:\n",
        "        return f\"[HR] Unknown employee_id: {employee_id}\"\n",
        "    prompt = f\"\"\"\n",
        "You are an HR business partner. Decide on a PTO request using the employee snapshot,\n",
        "request details, and policy notes. Choose approve / approve with conditions / deny,\n",
        "give a short rationale, and list 2–3 next steps.\n",
        "\n",
        "Employee snapshot:\n",
        "{emp}\n",
        "\n",
        "Leave request:\n",
        "{request}\n",
        "\n",
        "Policy notes:\n",
        "{POLICIES}\n",
        "\n",
        "Output: decision header, brief rationale, and numbered next steps.\n",
        "\"\"\"\n",
        "    return llm.invoke(prompt).content\n",
        "\n",
        "@mcp.tool()\n",
        "def answer_policy(question: str) -> str:\n",
        "    \"\"\"\n",
        "    Short policy answer citing which policy keys were used.\n",
        "    \"\"\"\n",
        "    prompt = f\"\"\"\n",
        "You are an HR policy assistant. Answer briefly using the policy dictionary and cite the keys you used.\n",
        "\n",
        "Policies:\n",
        "{POLICIES}\n",
        "\n",
        "Question:\n",
        "{question}\n",
        "\n",
        "Output: 2–4 sentences plus a final line: \"Cited: <policy details>\".\n",
        "\"\"\"\n",
        "    return llm.invoke(prompt).content\n",
        "\n",
        "if __name__ == \"__main__\":\n",
        "    print(\"Starting HR MCP Server on http://localhost:8011/mcp ...\")\n",
        "    mcp.run(transport=\"streamable-http\")"
      ],
      "metadata": {
        "id": "c0l-JSZ4gj4X"
      },
      "execution_count": null,
      "outputs": []
    },
    {
      "cell_type": "markdown",
      "source": [
        "## Deploying the MCP Server for the HR Department\n",
        "\n",
        "The HR MCP server is started as a background process:  \n",
        "- Endpoint: `http://localhost:8011/mcp`  \n",
        "- Logs: stored in `hr_server_output.log`  \n",
        "\n",
        "This brings the HR server online and ready to provide employee-related information to agents.\n"
      ],
      "metadata": {
        "id": "NCUR5DbkIC8C"
      }
    },
    {
      "cell_type": "code",
      "source": [
        "!nohup python /content/hr_mcp_server.py > hr_server_output.log 2>&1 &"
      ],
      "metadata": {
        "id": "-VD8sib7gxPX"
      },
      "execution_count": null,
      "outputs": []
    },
    {
      "cell_type": "markdown",
      "source": [
        "![](https://i.imgur.com/sHdQjL9.png)"
      ],
      "metadata": {
        "id": "lgNvm75GIU6t"
      }
    },
    {
      "cell_type": "markdown",
      "source": [
        "## Building the Client Agent\n",
        "\n",
        "Here we construct the **Client Agent** that will consume tools from both the Finance and HR MCP servers. Steps include:\n",
        "\n",
        "1. Creating a `MultiServerMCPClient` that connects to the Finance (`8010`) and HR (`8011`) endpoints  \n",
        "2. Discovering available tools dynamically with `get_tools()`  \n",
        "3. Initializing a GPT-4o-mini model as the reasoning engine  \n",
        "4. Creating a **ReAct agent** using `create_react_agent` and passing the tools and a System Prompt  \n",
        "\n",
        "This produces a single agent capable of intelligently routing requests to the right department’s tools."
      ],
      "metadata": {
        "id": "uhQSBs_lL3yV"
      }
    },
    {
      "cell_type": "code",
      "source": [
        "%%writefile client_agent.py\n",
        "from langchain_mcp_adapters.client import MultiServerMCPClient\n",
        "from langgraph.prebuilt import create_react_agent\n",
        "from langchain_openai import ChatOpenAI\n",
        "from langchain_core.messages import SystemMessage, HumanMessage\n",
        "import asyncio\n",
        "from dotenv import load_dotenv\n",
        "\n",
        "load_dotenv()\n",
        "llm = ChatOpenAI(model=\"gpt-4o-mini\", temperature=0)\n",
        "\n",
        "SYSTEM_PROMPT = SystemMessage(content=\"\"\"\n",
        "You are a helpful assistant that can call tools exposed via MCP.\n",
        "- Use Finance tools for spend guidance and budget actions.\n",
        "- Use HR tools for leave decisions and quick policy answers.\n",
        "- Keep answers short and actionable.\n",
        "- When a tool provides bullet points, preserve structure.\n",
        "- If a tool returns an error string, surface it plainly.\n",
        "\"\"\")\n",
        "\n",
        "async def main():\n",
        "    client = MultiServerMCPClient({\n",
        "        \"finance\": {\n",
        "            \"url\": \"http://localhost:8010/mcp\",\n",
        "            \"transport\": \"streamable_http\"\n",
        "        },\n",
        "        \"hr\": {\n",
        "            \"url\": \"http://localhost:8011/mcp\",\n",
        "            \"transport\": \"streamable_http\"\n",
        "        },\n",
        "    })\n",
        "\n",
        "    tools = await client.get_tools()\n",
        "    print(\"Discovered tools:\", [t.name for t in tools])\n",
        "\n",
        "    agent = create_react_agent(model=llm, tools=tools, prompt=SYSTEM_PROMPT)\n",
        "\n",
        "    # Sample prompts to try\n",
        "    samples = [\n",
        "        # Finance (for Operations): spend guardrails\n",
        "        \"We need spend guardrails for Operations. Suggest approval tiers and when to require POs.\",\n",
        "\n",
        "        # Finance: budget actions\n",
        "        \"Give budget actions for Engineering to stay on plan this quarter.\",\n",
        "\n",
        "        # HR: leave decision\n",
        "        'HR: Decide on PTO for EMP456, with the request of {\"dates\":\"2025-09-02 to 2025-09-06\",\"reason\":\"family event\",\"backup\":\"Alice\"}',\n",
        "\n",
        "        # HR: policy quick answer\n",
        "        \"HR policy: Can I carry forward unused PTO to next year?\"\n",
        "    ]\n",
        "\n",
        "    for q in samples:\n",
        "        print(\"\\n---\")\n",
        "        print(\"User:\", q)\n",
        "        # result = await agent.ainvoke(input={\"messages\": [HumanMessage(content=q)]},\n",
        "        #                              config={\"recursion_limit\": 100})\n",
        "        async for event in agent.astream(input={\"messages\": [HumanMessage(content=q)]},\n",
        "                                         config={\"recursion_limit\": 25}, stream_mode=\"values\"):\n",
        "            if event:\n",
        "                event[\"messages\"][-1].pretty_print()\n",
        "        print()\n",
        "\n",
        "\n",
        "if __name__ == \"__main__\":\n",
        "    asyncio.run(main())"
      ],
      "metadata": {
        "id": "pHzw5OrJg2HS"
      },
      "execution_count": null,
      "outputs": []
    },
    {
      "cell_type": "markdown",
      "source": [
        "## Running the Client Agent\n",
        "\n",
        "We execute the client agent with example queries to demonstrate cross-server functionality:\n",
        "\n",
        "- **Finance query**: “Generate an invoice for customer 123”  \n",
        "- **HR query**: “Show me the leave balance for employee 456”  \n",
        "- **Finance query**: “What is the tech department’s budget summary?”  \n",
        "\n",
        "For each case, the agent selects the correct tool from the appropriate server, invokes it, and produces a natural language summary of the result.  \n",
        "This confirms that one agent can seamlessly orchestrate across multiple MCP servers.\n"
      ],
      "metadata": {
        "id": "fNpvWRVuL7Sj"
      }
    },
    {
      "cell_type": "markdown",
      "source": [
        "```bash\n",
        "/content# python client_agent.py\n",
        "Discovered tools: ['ops_spend_guidance', 'recommend_budget_actions', 'leave_decision', 'answer_policy']\n",
        "\n",
        "---\n",
        "User: We need spend guardrails for Operations. Suggest approval tiers and when to require POs.\n",
        "================================ Human Message =================================\n",
        "\n",
        "We need spend guardrails for Operations. Suggest approval tiers and when to require POs.\n",
        "================================== Ai Message ==================================\n",
        "Tool Calls:\n",
        "  ops_spend_guidance (call_xajA51tcpqOF9Lil3DJzxWQa)\n",
        " Call ID: call_xajA51tcpqOF9Lil3DJzxWQa\n",
        "  Args:\n",
        "    department: Operations\n",
        "================================= Tool Message =================================\n",
        "Name: ops_spend_guidance\n",
        "\n",
        "- **Approval Thresholds**:  \n",
        "  - Purchases up to $5,000: Department head approval required.  \n",
        "  - Purchases $5,001 - $50,000: Finance partner and department head approval required.  \n",
        "  - Purchases over $50,000: Executive team approval required.  \n",
        "  *Rationale: Ensures appropriate oversight for varying levels of expenditure.*\n",
        "\n",
        "- **PO Requirements**:  \n",
        "  - All purchases over $1,000 must have a Purchase Order (PO) before incurring expenses.  \n",
        "  *Rationale: Maintains budget control and tracking of expenditures.*\n",
        "\n",
        "- **Vendor Payment Terms**:  \n",
        "  - Standard payment terms: Net 30 days.  \n",
        "  - Early payment discounts should be negotiated where possible.  \n",
        "  *Rationale: Optimizes cash flow while taking advantage of potential savings.*\n",
        "\n",
        "- **Quick Guardrails**:  \n",
        "  - Monitor spending against the budget regularly; aim to stay within 50% of the budget by mid-year.  \n",
        "  - Prioritize open initiatives for funding to ensure strategic alignment.  \n",
        "  *Rationale: Helps maintain financial discipline and focus on key projects.*\n",
        "================================== Ai Message ==================================\n",
        "\n",
        "Here are the spend guardrails for Operations:\n",
        "\n",
        "- **Approval Thresholds**:  \n",
        "  - Purchases up to $5,000: Department head approval required.  \n",
        "  - Purchases $5,001 - $50,000: Finance partner and department head approval required.  \n",
        "  - Purchases over $50,000: Executive team approval required.  \n",
        "\n",
        "- **PO Requirements**:  \n",
        "  - All purchases over $1,000 must have a Purchase Order (PO) before incurring expenses.  \n",
        "\n",
        "- **Vendor Payment Terms**:  \n",
        "  - Standard payment terms: Net 30 days.  \n",
        "  - Early payment discounts should be negotiated where possible.  \n",
        "\n",
        "- **Quick Guardrails**:  \n",
        "  - Monitor spending against the budget regularly; aim to stay within 50% of the budget by mid-year.  \n",
        "  - Prioritize open initiatives for funding to ensure strategic alignment.  \n",
        "\n",
        "These guidelines will help maintain financial oversight and control.\n",
        "\n",
        "\n",
        "---\n",
        "User: Give budget actions for Engineering to stay on plan this quarter.\n",
        "================================ Human Message =================================\n",
        "\n",
        "Give budget actions for Engineering to stay on plan this quarter.\n",
        "================================== Ai Message ==================================\n",
        "Tool Calls:\n",
        "  recommend_budget_actions (call_IFegXTptMXNnaj6IYPWhO1dy)\n",
        " Call ID: call_IFegXTptMXNnaj6IYPWhO1dy\n",
        "  Args:\n",
        "    department: Engineering\n",
        "\n",
        "2. **Inference cost control**\n",
        "3. **Data platform hardening**\n",
        "\n",
        "These initiatives are critical for enhancing operational efficiency and controlling costs, which will be essential for staying within budget for the remainder of the fiscal year.\n",
        "\n",
        "### Next Steps: Specific Actions to Stay on Plan\n",
        "\n",
        "1. **Monitor Spending Against Budget**: Implement a bi-weekly review of expenditures against the budget to ensure that spending aligns with planned allocations. This will help identify any potential overspending early and allow for corrective actions.\n",
        "\n",
        "2. **Prioritize Open Initiatives**: Assess the urgency and impact of the open initiatives. Allocate resources to the most critical projects first, particularly focusing on **Inference cost control** to manage and reduce ongoing expenses.\n",
        "\n",
        "3. **Enhance Resource Allocation**: Evaluate the current headcount and consider whether reallocating existing personnel to high-priority initiatives could improve efficiency without increasing costs. This may involve cross-training team members to support multiple initiatives.\n",
        "\n",
        "4. **Set Milestones for Initiatives**: Establish clear milestones and deadlines for each open initiative. This will help track progress and ensure that resources are being utilized effectively, allowing for timely adjustments if any initiative is falling behind.\n",
        "\n",
        "5. **Engage in Cost-Benefit Analysis**: For each open initiative, conduct a cost-benefit analysis to determine the expected return on investment. This will help prioritize funding and resources towards initiatives that promise the highest impact on the department's goals.\n",
        "\n",
        "By implementing these actions, the department can maintain its budget posture and ensure that it remains on track for the fiscal year 2025.\n",
        "\n",
        "### Current Budget Posture Summary\n",
        "\n",
        "- Total budget for FY 2025: **$2,400,000**\n",
        "- Year-to-date (YTD) spending: **$980,000** (40.8% utilized)\n",
        "- Current headcount: **18 employees**\n",
        "- Open initiatives:\n",
        "  1. **Observability uplift**\n",
        "  2. **Inference cost control**\n",
        "  3. **Data platform hardening**\n",
        "\n",
        "### Next Steps: Specific Actions to Stay on Plan\n",
        "\n",
        "1. **Monitor Spending Against Budget**: Implement bi-weekly reviews of expenditures to ensure alignment with planned allocations.\n",
        "  \n",
        "2. **Prioritize Open Initiatives**: Focus on critical projects, especially **Inference cost control**, to manage and reduce expenses.\n",
        "\n",
        "3. **Enhance Resource Allocation**: Consider reallocating personnel to high-priority initiatives and cross-training team members.\n",
        "\n",
        "4. **Set Milestones for Initiatives**: Establish clear milestones and deadlines for tracking progress and resource utilization.\n",
        "\n",
        "5. **Engage in Cost-Benefit Analysis**: Conduct analyses for each initiative to prioritize funding towards those with the highest expected impact.\n",
        "\n",
        "By following these actions, the Engineering department can stay on track with its budget for the remainder of the fiscal year.\n",
        "\n",
        "\n",
        "---\n",
        "User: HR: Decide on PTO for EMP456, with the request of {\"dates\":\"2025-09-02 to 2025-09-06\",\"reason\":\"family event\",\"backup\":\"Alice\"}\n",
        "================================ Human Message =================================\n",
        "\n",
        "HR: Decide on PTO for EMP456, with the request of {\"dates\":\"2025-09-02 to 2025-09-06\",\"reason\":\"family event\",\"backup\":\"Alice\"}\n",
        "================================== Ai Message ==================================\n",
        "Tool Calls:\n",
        "  leave_decision (call_jV729UHjrA75M6R4Dvl4snRq)\n",
        " Call ID: call_jV729UHjrA75M6R4Dvl4snRq\n",
        "  Args:\n",
        "    employee_id: EMP456\n",
        "    request: {\"dates\":\"2025-09-02 to 2025-09-06\",\"reason\":\"family event\",\"backup\":\"Alice\"}\n",
        "================================= Tool Message =================================\n",
        "Name: leave_decision\n",
        "\n",
        "**Decision: Approve**\n",
        "\n",
        "**Rationale:** Anita Rao has a sufficient PTO balance of 12 days and is not currently on a critical project. Her request for time off from September 2 to September 6 for a family event is reasonable and aligns with company policy.\n",
        "\n",
        "**Next Steps:**\n",
        "1. Notify Anita of the approval of her PTO request.\n",
        "2. Confirm with her manager, MGR-22, that Alice will be available as a backup during her absence.\n",
        "3. Update the PTO records to reflect the approved leave dates.\n",
        "================================== Ai Message ==================================\n",
        "\n",
        "**Decision: Approve**\n",
        "\n",
        "**Rationale:** Anita Rao has a sufficient PTO balance of 12 days and is not currently on a critical project. Her request for time off from September 2 to September 6 for a family event is reasonable and aligns with company policy.\n",
        "\n",
        "**Next Steps:**\n",
        "1. Notify Anita of the approval of her PTO request.\n",
        "2. Confirm with her manager, MGR-22, that Alice will be available as a backup during her absence.\n",
        "3. Update the PTO records to reflect the approved leave dates.\n",
        "\n",
        "\n",
        "---\n",
        "User: HR policy: Can I carry forward unused PTO to next year?\n",
        "================================ Human Message =================================\n",
        "\n",
        "HR policy: Can I carry forward unused PTO to next year?\n",
        "================================== Ai Message ==================================\n",
        "Tool Calls:\n",
        "  answer_policy (call_3VRTFiYBGV2nNNzz6SHTPoiS)\n",
        " Call ID: call_3VRTFiYBGV2nNNzz6SHTPoiS\n",
        "  Args:\n",
        "    question: Can I carry forward unused PTO to next year?\n",
        "================================= Tool Message =================================\n",
        "Name: answer_policy\n",
        "\n",
        "Yes, you can carry forward unused PTO to the next year, but only up to 10 PTO days. It's important to keep track of your accrued days to ensure you don't exceed this limit.\n",
        "\n",
        "Cited: {'carryover': 'Up to 10 PTO days may be carried forward to next year.'}\n",
        "================================== Ai Message ==================================\n",
        "\n",
        "Yes, you can carry forward unused PTO to the next year, but only up to 10 PTO days. It's important to keep track of your accrued days to ensure you don't exceed this limit.\n",
        "\n",
        "/content#\n",
        "\n",
        "```"
      ],
      "metadata": {
        "id": "DYhb395eroJG"
      }
    },
    {
      "cell_type": "code",
      "source": [],
      "metadata": {
        "id": "eMt4NX0YL1J0"
      },
      "execution_count": null,
      "outputs": []
    }
  ]
}