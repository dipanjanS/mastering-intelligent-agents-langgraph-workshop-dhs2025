{
  "nbformat": 4,
  "nbformat_minor": 0,
  "metadata": {
    "colab": {
      "provenance": [],
      "authorship_tag": "ABX9TyNzP+hs9IKYjzOH/xz8ZPpp",
      "include_colab_link": true
    },
    "kernelspec": {
      "name": "python3",
      "display_name": "Python 3"
    },
    "language_info": {
      "name": "python"
    }
  },
  "cells": [
    {
      "cell_type": "markdown",
      "metadata": {
        "id": "view-in-github",
        "colab_type": "text"
      },
      "source": [
        "<a href=\"https://colab.research.google.com/github/dipanjanS/mastering-intelligent-agents-langgraph-workshop-dhs2025/blob/main/Module-5-Building-Agentic-RAG-and-Multimodal-Agentic-AI-Systems/M5LC2_Build_a_Multimodal_Multi_Agent_System_for_Invoice_Processing.ipynb\" target=\"_parent\"><img src=\"https://colab.research.google.com/assets/colab-badge.svg\" alt=\"Open In Colab\"/></a>"
      ]
    },
    {
      "cell_type": "markdown",
      "source": [
        "# Build a Multimodal Multi-Agent System for **Invoice Processing** with LangGraph\n",
        "\n",
        "> A real-world example of a **multimodal multi-agent system** that extracts data from PNG/PDF invoices, transform it into a strict schema, and store/query it with a database.\n",
        "\n",
        "![Architecture Diagram](https://i.imgur.com/gynMdpH.png)\n",
        "\n",
        "---\n",
        "\n",
        "## What this notebook does\n",
        "\n",
        "- Accepts **invoice files** (PNG/PDF).\n",
        "- Uses a **multimodal LLM** to extract invoice data as **Markdown**.\n",
        "- Converts Markdown → **structured JSON** with checks on totals.\n",
        "- **Persists** invoices and **retrieves** pending ones from a simple SQLite DB.\n",
        "- Orchestrates the above with a **Supervisor Agent** and three specialist agents.\n",
        "\n",
        "---\n",
        "\n",
        "## Multi-Agent Architecture (at a glance)\n",
        "\n",
        "### 1) Supervisor Agent\n",
        "- **Role:** Central router that decides which specialist agent should act next.\n",
        "- **Thinks only about routing** (does not do tool calls itself).\n",
        "- **Routing policy (supports single or multiple invoices):**\n",
        "  - **Invoice Extraction Agent** → when the latest user input includes one or more **file paths** ending in `.png`/`.pdf` and we **haven't** yet extracted Markdown for those files. The extraction agent should call the correct tool **per file** and return Markdowns (clearly separated per file).\n",
        "  - **Invoice Transformation Agent** → when **Markdown is present** (for one or many invoices) but **no structured JSON** yet. The agent converts each Markdown block into **Structured JSON** (one object per invoice).\n",
        "  - **Invoice Management Agent** → when the user wants to **store** structured JSON (e.g., “save/insert”) **or** **retrieve** pending invoices (e.g., “show/list pending”). It will either insert into the DB or return a Markdown table.\n",
        "  - **FINISH** → when the objective is complete (e.g., after storing or after showing pending invoices) and nothing else is requested.\n",
        "---\n",
        "\n",
        "## 2) Specialized Agents\n",
        "\n",
        "### 🧾 Invoice Extraction Agent\n",
        "- **Goal:** Extract invoice content using multimodal LLM (Gemini) **without changing it**.\n",
        "- **Tools:**  \n",
        "  - `extract_invoice_data_png(path)` – PNG → Markdown  \n",
        "  - `extract_invoice_data_pdf(path)` – PDF → Markdown  \n",
        "- **Output:** Markdown that preserves fields and tables.\n",
        "\n",
        "### 🧩 Invoice Transformation Agent\n",
        "- **Goal:** Convert Markdown → **InvoiceSchema JSON** (with totals checks).\n",
        "- **Tool:**  \n",
        "  - `transform_invoice_data(markdown)` – uses GPT-4o-mini with `with_structured_output` (Pydantic).\n",
        "- **Output:** Strict JSON (invoice_id, vendor, dates, line items, subtotal, tax_total, grand_total, currency).\n",
        "\n",
        "### 🗄️ Invoice Management Agent\n",
        "- **Goal:** **Store** or **Retrieve** invoices based on the query intent.\n",
        "- **Tools:**  \n",
        "  - `store_invoice(json_string)` – inserts into SQLite (status defaults to *Pending*).  \n",
        "  - `get_pending_invoices()` – fetches pending invoices and returns a **Markdown table** via LLM formatting.\n",
        "- **Output:** Storage confirmation **or** a clean Markdown listing of pending invoices.\n",
        "\n",
        "---\n",
        "\n",
        "## Tools Layer\n",
        "\n",
        "- **Extraction (multimodal):** `extract_invoice_data_png`, `extract_invoice_data_pdf`  \n",
        "- **Transformation (structured):** `transform_invoice_data`  \n",
        "- **Persistence & Retrieval:** `store_invoice`, `get_pending_invoices`\n",
        "\n",
        "---\n",
        "\n",
        "## Data Sources\n",
        "\n",
        "- **Invoice Files:** PNG/PDF inputs.  \n",
        "- **Invoice Processing Database (SQLite):** `invoices` table with a JSON column and virtual columns for quick filtering.\n",
        "\n",
        "---\n",
        "\n",
        "## End-to-End Flow\n",
        "\n",
        "1. **Provide one or more invoice file paths** → Supervisor routes to **Extraction**.  \n",
        "2. **Markdown available** → Supervisor routes to **Transformation** (creates InvoiceSchema JSON).  \n",
        "3. **JSON ready / user requests storage or pending list** → Supervisor routes to **Management**.  \n",
        "4. **Done** → Supervisor returns a concise **final response** (and finishes).\n",
        "\n",
        "---\n",
        "\n",
        "## Requirements & Setup\n",
        "\n",
        "- API keys:\n",
        "  - `GEMINI_API_KEY` (for PNG/PDF extraction to Markdown)\n",
        "  - OpenAI (for GPT-4o-mini structured transformation + formatting)\n",
        "- Python deps: `langgraph`, `langchain-openai`, `google-genai`, `pydantic`, `sqlite3`\n",
        "\n",
        "---\n",
        "\n",
        "## Notebook Layout\n",
        "\n",
        "1. **Install & Keys**  \n",
        "2. **Tool Definitions** (extraction, transformation, storage/retrieval)  \n",
        "3. **Agents** (Extraction / Transformation / Management)  \n",
        "4. **Supervisor & Graph Wiring**  \n",
        "5. **Run Examples** (single file, multiple files; store + list pending)\n",
        "\n",
        "---\n"
      ],
      "metadata": {
        "id": "oVOQI6e1Qp9h"
      }
    },
    {
      "cell_type": "markdown",
      "source": [
        "## Install Gemini, LangChain, OpenAI & LangGraph Dependencies"
      ],
      "metadata": {
        "id": "3Sy1QBVHw3Cg"
      }
    },
    {
      "cell_type": "code",
      "source": [
        "!pip install google-genai==1.29.0 langchain==0.3.27 langchain-community==0.3.27 langchain-openai==0.3.30 langgraph==0.6.5 --quiet"
      ],
      "metadata": {
        "id": "5GZqxmvpn_bD"
      },
      "execution_count": null,
      "outputs": []
    },
    {
      "cell_type": "markdown",
      "source": [
        "## Enter API Keys & Setup Environment Variables"
      ],
      "metadata": {
        "id": "gCiHAEmyxhnl"
      }
    },
    {
      "cell_type": "code",
      "source": [
        "import os\n",
        "import getpass\n",
        "\n",
        "# OpenAI API Key (for chat & embeddings)\n",
        "if not os.environ.get(\"OPENAI_API_KEY\"):\n",
        "    os.environ[\"OPENAI_API_KEY\"] = getpass.getpass(\"Enter your OpenAI API key (https://platform.openai.com/account/api-keys):\\n\")\n",
        "\n",
        "# Gemini API Key (for multimodal invoice processing)\n",
        "if not os.environ.get(\"GEMINI_API_KEY\"):\n",
        "    os.environ[\"GEMINI_API_KEY\"] = getpass.getpass(\"Enter your Google Gemini API key (https://aistudio.google.com/apikey):\\n\")"
      ],
      "metadata": {
        "id": "E066sqIn1YEJ"
      },
      "execution_count": null,
      "outputs": []
    },
    {
      "cell_type": "markdown",
      "source": [
        "## Create Invoice Processing Database\n"
      ],
      "metadata": {
        "id": "4HoBt83Vx2zl"
      }
    },
    {
      "cell_type": "code",
      "source": [
        "!rm invoice_db.db"
      ],
      "metadata": {
        "id": "WBxpRJylrGN6"
      },
      "execution_count": null,
      "outputs": []
    },
    {
      "cell_type": "code",
      "source": [
        "import sqlite3\n",
        "\n",
        "# Create DB & table if not exists\n",
        "INVOICE_DATABASE = \"invoice_db.db\"\n",
        "conn = sqlite3.connect(INVOICE_DATABASE)\n",
        "cur = conn.cursor()\n",
        "\n",
        "cur.execute(\"\"\"\n",
        "CREATE TABLE IF NOT EXISTS invoices (\n",
        "  id INTEGER PRIMARY KEY,\n",
        "  doc JSON,\n",
        "  invoice_id TEXT GENERATED ALWAYS AS (json_extract(doc,'$.invoice_id')) VIRTUAL,\n",
        "  vendor TEXT GENERATED ALWAYS AS (json_extract(doc,'$.vendor')) VIRTUAL,\n",
        "  invoice_date TEXT GENERATED ALWAYS AS (json_extract(doc,'$.invoice_date')) VIRTUAL,\n",
        "  grand_total REAL GENERATED ALWAYS AS (json_extract(doc,'$.grand_total')) VIRTUAL,\n",
        "  current_status TEXT DEFAULT 'Pending'\n",
        ");\n",
        "\"\"\")\n",
        "conn.commit()"
      ],
      "metadata": {
        "id": "AUB8IYuZf5ah"
      },
      "execution_count": null,
      "outputs": []
    },
    {
      "cell_type": "markdown",
      "source": [
        "## Implement Tools\n",
        "\n",
        "- **Extraction (multimodal):** `extract_invoice_data_png`, `extract_invoice_data_pdf`  \n",
        "- **Transformation (structured):** `transform_invoice_data`  \n",
        "- **Persistence & Retrieval:** `store_invoice`, `get_pending_invoices`"
      ],
      "metadata": {
        "id": "xlOvaGi8yOYQ"
      }
    },
    {
      "cell_type": "code",
      "source": [
        "from google import genai\n",
        "from google.genai import types\n",
        "\n",
        "GEMINI_MODEL_NAME = \"gemini-2.0-flash\"\n",
        "\n",
        "gemini_client = genai.Client()\n",
        "\n",
        "PNG_PROCESSOR_CONFIG = types.GenerateContentConfig(\n",
        "    temperature=0,\n",
        "    system_instruction=\"\"\"You are an invoice processor.\n",
        "    Extract all the major elements of the given invoice from the Image.\n",
        "    Neatly format into a markdown response and return.\n",
        "    Keep elements like tables intact, do not mess with structure.\"\"\"\n",
        ")\n",
        "\n",
        "PDF_PROCESSOR_CONFIG = types.GenerateContentConfig(\n",
        "    temperature=0,\n",
        "    system_instruction=\"\"\"You are an invoice processor.\n",
        "    Extract all the major elements of the given invoice from the PDF document.\n",
        "    Neatly format into a markdown response and return.\n",
        "    Keep elements like tables intact, do not mess with structure.\"\"\"\n",
        ")\n"
      ],
      "metadata": {
        "id": "qu-q8h7aVxuC"
      },
      "execution_count": null,
      "outputs": []
    },
    {
      "cell_type": "code",
      "source": [
        "from typing import List, Optional\n",
        "from pydantic import BaseModel\n",
        "from langchain_openai import ChatOpenAI\n",
        "from langchain_core.tools import tool\n",
        "import json\n",
        "\n",
        "@tool\n",
        "def extract_invoice_data_png(image_file_path: str) -> str:\n",
        "    \"\"\"\n",
        "    Extract invoice contents from a PNG file using multimodal LLM (Gemini).\n",
        "\n",
        "    Args:\n",
        "        image_file_path (str): Path to a PNG invoice.\n",
        "\n",
        "    Returns:\n",
        "        str: Invoice content in Markdown format, preserving fields and tables.\n",
        "    \"\"\"\n",
        "    with open(image_file_path, \"rb\") as f:\n",
        "        data = f.read()\n",
        "    image_part = types.Part.from_bytes(data=data, mime_type=\"image/png\")\n",
        "\n",
        "    resp = gemini_client.models.generate_content(\n",
        "        model=GEMINI_MODEL_NAME,\n",
        "        contents=[\"Extract this invoice\", image_part],\n",
        "        config=PNG_PROCESSOR_CONFIG\n",
        "    )\n",
        "    return resp.text\n",
        "\n",
        "\n",
        "@tool\n",
        "def extract_invoice_data_pdf(pdf_file_path: str) -> str:\n",
        "    \"\"\"\n",
        "    Extract invoice contents from a PDF file using multimodal LLM (Gemini).\n",
        "\n",
        "    Args:\n",
        "        pdf_file_path (str): Path to a PDF invoice.\n",
        "\n",
        "    Returns:\n",
        "        str: Invoice content in Markdown format, preserving fields and tables.\n",
        "    \"\"\"\n",
        "    with open(pdf_file_path, \"rb\") as f:\n",
        "        data = f.read()\n",
        "    pdf_part = types.Part.from_bytes(data=data, mime_type=\"application/pdf\")\n",
        "\n",
        "    resp = gemini_client.models.generate_content(\n",
        "        model=GEMINI_MODEL_NAME,\n",
        "        contents=[\"Extract this invoice\", pdf_part],\n",
        "        config=PDF_PROCESSOR_CONFIG\n",
        "    )\n",
        "    return resp.text\n",
        "\n",
        "\n",
        "llm = ChatOpenAI(model=\"gpt-4o-mini\", temperature=0)\n",
        "\n",
        "class LineItem(BaseModel):\n",
        "    description: str\n",
        "    quantity: Optional[int]\n",
        "    unit_price: Optional[float]\n",
        "    line_total: Optional[float]\n",
        "\n",
        "class InvoiceSchema(BaseModel):\n",
        "    invoice_id: str\n",
        "    vendor: str\n",
        "    invoice_date: str\n",
        "    due_date: Optional[str]\n",
        "    currency: Optional[str]\n",
        "    line_items: List[LineItem]\n",
        "    subtotal: Optional[float]\n",
        "    tax_total: Optional[float]\n",
        "    grand_total: Optional[float]\n",
        "\n",
        "@tool\n",
        "def transform_invoice_data(markdown_invoice: str) -> str:\n",
        "    \"\"\"\n",
        "    Transform extracted invoice Markdown into a structured InvoiceSchema.\n",
        "\n",
        "    Args:\n",
        "        markdown_invoice (str): Invoice content in Markdown format.\n",
        "\n",
        "    Returns:\n",
        "        str: Parsed JSON invoice conforming to InvoiceSchema.\n",
        "    \"\"\"\n",
        "    structured_llm = llm.with_structured_output(InvoiceSchema)\n",
        "\n",
        "    prompt = f\"\"\"\n",
        "    Convert the following invoice Markdown into structured data that matches the schema.\n",
        "    Make sure all totals are calculated correctly.\n",
        "    Use \"USD\" for currency when \"$\" is present.\n",
        "\n",
        "    Invoice Markdown:\n",
        "    {markdown_invoice}\n",
        "    \"\"\"\n",
        "\n",
        "    result = structured_llm.invoke(prompt)\n",
        "    return result.model_dump_json()\n",
        "\n",
        "\n",
        "@tool\n",
        "def store_invoice(transformed_invoice: str) -> str:\n",
        "    \"\"\"\n",
        "    Store a structured invoice JSON into the SQLite database.\n",
        "\n",
        "    Args:\n",
        "        transformed_invoice (str): Invoice JSON string from transform_invoice_data tool.\n",
        "\n",
        "    Returns:\n",
        "        str: Confirmation message with invoice_id.\n",
        "    \"\"\"\n",
        "    conn = sqlite3.connect(INVOICE_DATABASE)\n",
        "    cur = conn.cursor()\n",
        "    cur.execute(\n",
        "        \"INSERT INTO invoices(doc, current_status) VALUES (json(?), 'Pending')\",\n",
        "        (transformed_invoice,)\n",
        "    )\n",
        "    conn.commit()\n",
        "    cur.close()\n",
        "    conn.close()\n",
        "\n",
        "    inv_id = json.loads(transformed_invoice).get(\"invoice_id\", \"UNKNOWN\")\n",
        "    return f\"Invoice {inv_id} stored successfully with status Pending.\"\n",
        "\n",
        "\n",
        "@tool\n",
        "def get_pending_invoices() -> str:\n",
        "    \"\"\"\n",
        "    Retrieve all invoices marked as Pending and format them nicely using GPT-4o-mini.\n",
        "\n",
        "    Args:\n",
        "       None.\n",
        "\n",
        "    Returns:\n",
        "        str: Markdown formatted summary of pending invoices.\n",
        "    \"\"\"\n",
        "    conn = sqlite3.connect(INVOICE_DATABASE)\n",
        "    cur = conn.cursor()\n",
        "\n",
        "    rows = cur.execute(\"\"\"\n",
        "        SELECT invoice_id, vendor, invoice_date, grand_total, current_status\n",
        "        FROM invoices WHERE current_status = 'Pending'\n",
        "    \"\"\").fetchall()\n",
        "\n",
        "    cur.close()\n",
        "    conn.close()\n",
        "\n",
        "    if not rows:\n",
        "        return \"No pending invoices found.\"\n",
        "\n",
        "    invoices = [\n",
        "        {\n",
        "            \"invoice_id\": r[0],\n",
        "            \"vendor\": r[1],\n",
        "            \"invoice_date\": r[2],\n",
        "            \"grand_total\": r[3],\n",
        "            \"status\": r[4]\n",
        "        }\n",
        "        for r in rows\n",
        "    ]\n",
        "\n",
        "    # Use LLM to format the output into Markdown\n",
        "    llm_prompt = f\"\"\"\n",
        "    You are given a list of pending invoices as JSON:\n",
        "\n",
        "    {json.dumps(invoices, indent=2)}\n",
        "\n",
        "    Present them as a clean Markdown table with columns:\n",
        "    - Invoice ID\n",
        "    - Vendor\n",
        "    - Invoice Date\n",
        "    - Total (with USD symbol)\n",
        "    - Status\n",
        "    \"\"\"\n",
        "\n",
        "    response = llm.invoke(llm_prompt)  # llm is your gpt-4o-mini instance\n",
        "    return response.content"
      ],
      "metadata": {
        "id": "xT0or8SiQ7Zd"
      },
      "execution_count": null,
      "outputs": []
    },
    {
      "cell_type": "markdown",
      "metadata": {
        "id": "42ccbffc"
      },
      "source": [
        "## Multi-Agent System with Supervisor"
      ]
    },
    {
      "cell_type": "markdown",
      "source": [
        "### Implement Sub-Agents (Worker Agents)"
      ],
      "metadata": {
        "id": "_xVniw5UT8Es"
      }
    },
    {
      "cell_type": "code",
      "source": [
        "# =========================\n",
        "# Agents (workers)\n",
        "# =========================\n",
        "from langgraph.prebuilt import create_react_agent\n",
        "from langchain_openai import ChatOpenAI\n",
        "\n",
        "# base LLM for agents\n",
        "llm = ChatOpenAI(model=\"gpt-4o-mini\", temperature=0)\n",
        "\n",
        "# 1) Invoice Extraction Agent  (PNG/PDF -> Markdown)\n",
        "invoice_extraction_agent = create_react_agent(\n",
        "    llm,\n",
        "    tools=[extract_invoice_data_png,\n",
        "           extract_invoice_data_pdf],\n",
        "    prompt=\"\"\"You are an invoice data extraction specialist.\n",
        "\n",
        "Responsibilities:\n",
        "- Use the appropriate tool to extract invoice content depending on the file type (PNG or PDF).\n",
        "- Return the extracted content in Markdown format preserving fields and tables.\n",
        "- Do not summarize or alter the invoice or add extra fields or explanations.\"\"\"\n",
        ")\n",
        "\n",
        "# 2) Invoice Transformation Agent  (Markdown -> JSON InvoiceSchema)\n",
        "invoice_transformation_agent = create_react_agent(\n",
        "    llm,\n",
        "    tools=[transform_invoice_data],\n",
        "    prompt=\"\"\"You are an invoice data transformation specialist.\n",
        "\n",
        "Responsibilities:\n",
        "- Take invoice content in Markdown and transform it into structured JSON using the provided tool.\n",
        "- Ensure totals and calculations are correct.\n",
        "- Use \"USD\" when the \"$\" symbol appears.\n",
        "- Output must strictly follow the schema used in the tool.\"\"\"\n",
        ")\n",
        "\n",
        "# 3) Invoice Management Agent  (DB store / retrieve pending)\n",
        "invoice_management_agent = create_react_agent(\n",
        "    llm,\n",
        "    tools=[store_invoice,\n",
        "           get_pending_invoices],\n",
        "    prompt=\"\"\"You are an invoice management assistant.\n",
        "\n",
        "Responsibilities:\n",
        "- Decide whether the user wants to STORE an invoice or RETRIEVE pending invoices.\n",
        "  * If structured invoice JSON is provided, use 'store_invoice'.\n",
        "  * If the user asks for pending invoices, use 'get_pending_invoices'.\n",
        "- Do not perform both actions unless explicitly asked.\n",
        "- Never invent invoice data - only use tool outputs.\n",
        "\n",
        "Output:\n",
        "- For storage: confirm success with the invoice ID and status as per tool response.\n",
        "- For retrieval: use tool output to return a clean Markdown table with columns:\n",
        "  Invoice ID | Vendor | Invoice Date | Total (USD) | Status.\"\"\"\n",
        ")\n"
      ],
      "metadata": {
        "id": "6nGjrSg8y3AA"
      },
      "execution_count": null,
      "outputs": []
    },
    {
      "cell_type": "markdown",
      "source": [
        "### Create Supervisor Agent"
      ],
      "metadata": {
        "id": "xeii7zn9Ujv6"
      }
    },
    {
      "cell_type": "code",
      "source": [
        "# =========================\n",
        "# Custom Supervisor\n",
        "# =========================\n",
        "from typing import Literal, Annotated\n",
        "from typing_extensions import TypedDict\n",
        "from langgraph.graph.message import add_messages\n",
        "from langgraph.types import Command\n",
        "from langgraph.graph import StateGraph, START, END\n",
        "from langchain_core.messages import SystemMessage, AIMessage\n",
        "\n",
        "# Graph state\n",
        "class State(TypedDict):\n",
        "    messages: Annotated[list, add_messages]\n",
        "\n",
        "# Available members (for structured routing)\n",
        "members = [\n",
        "    \"invoice_extraction_agent\",\n",
        "    \"invoice_transformation_agent\",\n",
        "    \"invoice_management_agent\",\n",
        "]\n",
        "\n",
        "# Structured router schema (same technique you used)\n",
        "class RouterPath(TypedDict):\n",
        "    next: Literal[\n",
        "        \"invoice_extraction_agent\",\n",
        "        \"invoice_transformation_agent\",\n",
        "        \"invoice_management_agent\",\n",
        "        \"FINISH\"\n",
        "    ]\n",
        "\n",
        "SUPERVISOR_PROMPT = f\"\"\"You are the Supervisor Agent for managing invoice processing.\n",
        "\n",
        "Your job is to route to ONE of:\n",
        "{members[0]}, {members[1]}, {members[2]}, or FINISH.\n",
        "\n",
        "Routing policy (handles single or multiple invoices):\n",
        "\n",
        "If there are multiple invoice paths, for each path call the following agents based on their functions:\n",
        "- invoice_extraction_agent → Used to extract markdown context from an invoice file path\n",
        "- invoice_transformation_agent → Used to transform markdown context into structured invoice JSON\n",
        "- invoice_management_agent → Use when the user wants to STORE structured invoice JSON (e.g., “save/insert/persist”)\n",
        "  or to RETRIEVE pending invoices (e.g., “show/list pending”).\n",
        "  The management agent will either store the invoices or return a Markdown table of pending invoices.\n",
        "\n",
        "- FINISH → Use when the objective appears complete (e.g., after storing or after showing pending invoices)\n",
        "  and the user isn’t asking for anything else.\n",
        "  Remember to process all invoices using the above agents if there are multiple invoices/\n",
        "\n",
        "Read the current messages. Decide who should act next.\n",
        "If the full workflow is complete, respond with FINISH.\n",
        "\"\"\"\n",
        "\n",
        "def supervisor_node(state: State) -> Command[\n",
        "    Literal[\"invoice_extraction_agent\",\n",
        "            \"invoice_transformation_agent\",\n",
        "            \"invoice_management_agent\",\n",
        "            \"__end__\"]\n",
        "]:\n",
        "    # Ask the LLM to choose the next hop via structured output\n",
        "    messages = [SystemMessage(content=SUPERVISOR_PROMPT)] + state[\"messages\"]\n",
        "    response = llm.with_structured_output(RouterPath).invoke(messages)\n",
        "    goto = response[\"next\"]\n",
        "\n",
        "    if goto == \"FINISH\":\n",
        "        goto=END,\n",
        "\n",
        "    return Command(goto=goto, update={\"next\": goto})"
      ],
      "metadata": {
        "id": "Wr3KLAZDzf6q"
      },
      "execution_count": null,
      "outputs": []
    },
    {
      "cell_type": "markdown",
      "source": [
        "### Create Sub-Agents Node Functions"
      ],
      "metadata": {
        "id": "otVctzVt5_cc"
      }
    },
    {
      "cell_type": "code",
      "source": [
        "# =========================\n",
        "# Worker agent node wrapper functions\n",
        "# =========================\n",
        "def invoice_extraction_node(state: State) -> Command[Literal[\"supervisor_agent\"]]:\n",
        "    result = invoice_extraction_agent.invoke(state)\n",
        "    return Command(\n",
        "        update={\"messages\": [AIMessage(content=result[\"messages\"][-1].content,\n",
        "                                       name=\"invoice_extraction_agent\")]},\n",
        "        goto=\"supervisor_agent\"\n",
        "    )\n",
        "\n",
        "def invoice_transformation_node(state: State) -> Command[Literal[\"supervisor_agent\"]]:\n",
        "    result = invoice_transformation_agent.invoke(state)\n",
        "    return Command(\n",
        "        update={\"messages\": [AIMessage(content=result[\"messages\"][-1].content,\n",
        "                                       name=\"invoice_transformation_agent\")]},\n",
        "        goto=\"supervisor_agent\"\n",
        "    )\n",
        "\n",
        "def invoice_management_node(state: State) -> Command[Literal[\"supervisor_agent\"]]:\n",
        "    result = invoice_management_agent.invoke(state)\n",
        "    return Command(\n",
        "        update={\"messages\": [AIMessage(content=result[\"messages\"][-1].content,\n",
        "                                       name=\"invoice_management_agent\")]},\n",
        "        goto=\"supervisor_agent\"\n",
        "    )\n"
      ],
      "metadata": {
        "id": "q2ZKcDCV632F"
      },
      "execution_count": null,
      "outputs": []
    },
    {
      "cell_type": "code",
      "source": [
        "# =========================\n",
        "# Graph wiring\n",
        "# =========================\n",
        "graph_builder = StateGraph(State)\n",
        "\n",
        "graph_builder.add_node(\"supervisor_agent\", supervisor_node)\n",
        "graph_builder.add_node(\"invoice_extraction_agent\", invoice_extraction_node)\n",
        "graph_builder.add_node(\"invoice_transformation_agent\", invoice_transformation_node)\n",
        "graph_builder.add_node(\"invoice_management_agent\", invoice_management_node)\n",
        "\n",
        "graph_builder.add_edge(START, \"supervisor_agent\")\n",
        "\n",
        "# Edges between workers are driven by each node's `goto=\"supervisor_agent\"`\n",
        "multi_agent = graph_builder.compile()"
      ],
      "metadata": {
        "id": "yldHlaQy7D4X"
      },
      "execution_count": null,
      "outputs": []
    },
    {
      "cell_type": "code",
      "source": [
        "from IPython.display import Image, display\n",
        "\n",
        "display(Image(multi_agent.get_graph(xray=True).draw_mermaid_png()))"
      ],
      "metadata": {
        "id": "4en0lF9h7U3i"
      },
      "execution_count": null,
      "outputs": []
    },
    {
      "cell_type": "markdown",
      "source": [
        "### Get Agent Response Formatting Utilities"
      ],
      "metadata": {
        "id": "Usw753wYXldQ"
      }
    },
    {
      "cell_type": "code",
      "source": [
        "!gdown 1dSyjcjlFoZpYEqv4P9Oi0-kU2gIoolMB"
      ],
      "metadata": {
        "id": "hu68_7ygXqlA"
      },
      "execution_count": null,
      "outputs": []
    },
    {
      "cell_type": "code",
      "source": [
        "from agent_utils import format_message\n",
        "from IPython.display import Markdown, display\n",
        "\n",
        "def call_agent_system(agent, prompt, verbose=False):\n",
        "\n",
        "    for event in agent.stream(\n",
        "        input={\"messages\": [{\"role\": \"user\", \"content\": prompt}]},\n",
        "        config={\"recursion_limit\": 25},\n",
        "        stream_mode='values' #returns full agent state with all messages including updates\n",
        "    ):\n",
        "        if verbose:\n",
        "            format_message(event[\"messages\"][-1])\n",
        "\n",
        "    print('\\n\\nFinal Response:\\n')\n",
        "    display(Markdown(event[\"messages\"][-1].content.replace(r'$', r'\\$')))\n",
        "    return event[\"messages\"]"
      ],
      "metadata": {
        "id": "LbX_4Gp5XrnE"
      },
      "execution_count": null,
      "outputs": []
    },
    {
      "cell_type": "markdown",
      "source": [
        "## Get Sample Invoices"
      ],
      "metadata": {
        "id": "EaGRqK-v8q-V"
      }
    },
    {
      "cell_type": "code",
      "source": [
        "!gdown 1kwylAodEdOR5gYdJ-nIWxRC0TkRbDkas"
      ],
      "metadata": {
        "id": "dtdGzNO38nC1"
      },
      "execution_count": null,
      "outputs": []
    },
    {
      "cell_type": "code",
      "source": [
        "!unzip -q invoice_receipts.zip -d invoices"
      ],
      "metadata": {
        "id": "xceuzOSb8uW1"
      },
      "execution_count": null,
      "outputs": []
    },
    {
      "cell_type": "code",
      "source": [
        "!ls invoices"
      ],
      "metadata": {
        "id": "pQ5n5m5T8t1P"
      },
      "execution_count": null,
      "outputs": []
    },
    {
      "cell_type": "markdown",
      "source": [
        "## View Sample Invoices\n",
        "\n",
        "![](https://i.imgur.com/MgrgaIn.png)"
      ],
      "metadata": {
        "id": "xShYJoYeR1Mn"
      }
    },
    {
      "cell_type": "markdown",
      "source": [
        "## Load Invoice Paths"
      ],
      "metadata": {
        "id": "wmnEdimkSUKw"
      }
    },
    {
      "cell_type": "code",
      "source": [
        "from pathlib import Path\n",
        "\n",
        "folder = Path(\"invoices\")\n",
        "files = [str(p.resolve()) for p in folder.rglob(\"*\") if p.is_file()]\n",
        "files"
      ],
      "metadata": {
        "id": "IbJO9jAp9PVj"
      },
      "execution_count": null,
      "outputs": []
    },
    {
      "cell_type": "markdown",
      "source": [
        "## Test Invoice Processing Agent"
      ],
      "metadata": {
        "id": "ndtxTFuCSXP7"
      }
    },
    {
      "cell_type": "code",
      "source": [
        "prompt = \"\"\"Please process and store all these invoices now.\n",
        "\n",
        "Invoices:\n",
        "{invoices}\"\"\".format(invoices=files)\n",
        "response = call_agent_system(multi_agent, prompt, verbose=True)"
      ],
      "metadata": {
        "id": "TEa5wX6dsK2K"
      },
      "execution_count": null,
      "outputs": []
    },
    {
      "cell_type": "code",
      "source": [
        "prompt = \"\"\"Show me all pending invoices please\"\"\"\n",
        "response = call_agent_system(multi_agent, prompt, verbose=True)"
      ],
      "metadata": {
        "id": "xjQ4ZjeR94gM"
      },
      "execution_count": null,
      "outputs": []
    },
    {
      "cell_type": "code",
      "source": [
        "conn = sqlite3.connect(INVOICE_DATABASE)\n",
        "cur = conn.cursor()\n",
        "rows = cur.execute(\"\"\"\n",
        "    SELECT *\n",
        "    FROM invoices WHERE current_status = 'Pending'\n",
        "\"\"\").fetchall()\n",
        "cur.close()\n",
        "conn.close()"
      ],
      "metadata": {
        "id": "5RX9zfV6HcOl"
      },
      "execution_count": null,
      "outputs": []
    },
    {
      "cell_type": "code",
      "source": [
        "import pandas as pd\n",
        "\n",
        "pd.DataFrame([json.loads(record[1]) for record in rows]).T"
      ],
      "metadata": {
        "id": "kaf2ATvTHteL"
      },
      "execution_count": null,
      "outputs": []
    },
    {
      "cell_type": "code",
      "source": [],
      "metadata": {
        "id": "vKDqVWYYHt9K"
      },
      "execution_count": null,
      "outputs": []
    }
  ]
}