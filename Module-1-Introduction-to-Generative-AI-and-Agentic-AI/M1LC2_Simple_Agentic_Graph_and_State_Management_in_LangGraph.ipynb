{
  "cells": [
    {
      "cell_type": "markdown",
      "metadata": {
        "id": "view-in-github",
        "colab_type": "text"
      },
      "source": [
        "<a href=\"https://colab.research.google.com/github/dipanjanS/mastering-intelligent-agents-langgraph-workshop-dhs2025/blob/main/Module-1-Introduction-to-Generative-AI-and-Agentic-AI/M1LC2_Simple_Agentic_Graph_and_State_Management_in_LangGraph.ipynb\" target=\"_parent\"><img src=\"https://colab.research.google.com/assets/colab-badge.svg\" alt=\"Open In Colab\"/></a>"
      ]
    },
    {
      "cell_type": "markdown",
      "id": "50fa7f8a-8764-4bb9-9968-48b681a0e4f1",
      "metadata": {
        "id": "50fa7f8a-8764-4bb9-9968-48b681a0e4f1"
      },
      "source": [
        "# Building a Simple Agent Graph and Managing States\n",
        "\n",
        "In this hands-on demo we will understand how states work in an agentic graph and also how to build a simple agentic graph just like the one shown below.\n",
        "\n",
        "![](https://i.imgur.com/ILcvB2y.png)"
      ]
    },
    {
      "cell_type": "markdown",
      "source": [
        "## Install Dependencies"
      ],
      "metadata": {
        "id": "tIiCs9qKEddB"
      },
      "id": "tIiCs9qKEddB"
    },
    {
      "cell_type": "code",
      "execution_count": null,
      "id": "ff151ef1-fa30-482a-94da-8f49964afbc3",
      "metadata": {
        "id": "ff151ef1-fa30-482a-94da-8f49964afbc3",
        "colab": {
          "base_uri": "https://localhost:8080/"
        },
        "outputId": "44c15469-bc60-4a93-8535-1e031511f4d5"
      },
      "outputs": [
        {
          "output_type": "stream",
          "name": "stdout",
          "text": [
            "\u001b[2K     \u001b[90m━━━━━━━━━━━━━━━━━━━━━━━━━━━━━━━━━━━━━━━━\u001b[0m \u001b[32m43.7/43.7 kB\u001b[0m \u001b[31m1.5 MB/s\u001b[0m eta \u001b[36m0:00:00\u001b[0m\n",
            "\u001b[2K   \u001b[90m━━━━━━━━━━━━━━━━━━━━━━━━━━━━━━━━━━━━━━━━\u001b[0m \u001b[32m74.3/74.3 kB\u001b[0m \u001b[31m4.5 MB/s\u001b[0m eta \u001b[36m0:00:00\u001b[0m\n",
            "\u001b[2K   \u001b[90m━━━━━━━━━━━━━━━━━━━━━━━━━━━━━━━━━━━━━━━━\u001b[0m \u001b[32m153.2/153.2 kB\u001b[0m \u001b[31m7.2 MB/s\u001b[0m eta \u001b[36m0:00:00\u001b[0m\n",
            "\u001b[2K   \u001b[90m━━━━━━━━━━━━━━━━━━━━━━━━━━━━━━━━━━━━━━━━\u001b[0m \u001b[32m43.9/43.9 kB\u001b[0m \u001b[31m2.7 MB/s\u001b[0m eta \u001b[36m0:00:00\u001b[0m\n",
            "\u001b[2K   \u001b[90m━━━━━━━━━━━━━━━━━━━━━━━━━━━━━━━━━━━━━━━━\u001b[0m \u001b[32m52.0/52.0 kB\u001b[0m \u001b[31m2.9 MB/s\u001b[0m eta \u001b[36m0:00:00\u001b[0m\n",
            "\u001b[2K   \u001b[90m━━━━━━━━━━━━━━━━━━━━━━━━━━━━━━━━━━━━━━━━\u001b[0m \u001b[32m216.7/216.7 kB\u001b[0m \u001b[31m10.5 MB/s\u001b[0m eta \u001b[36m0:00:00\u001b[0m\n",
            "\u001b[?25h"
          ]
        }
      ],
      "source": [
        "!pip install langchain==0.3.27 langchain-openai==0.3.29 langgraph==0.6.4 --quiet"
      ]
    },
    {
      "cell_type": "markdown",
      "id": "5999f8d0-989f-4638-8ade-5c257cbadfe8",
      "metadata": {
        "id": "5999f8d0-989f-4638-8ade-5c257cbadfe8"
      },
      "source": [
        "## State\n",
        "\n",
        "First, define the [State](https://langchain-ai.github.io/langgraph/concepts/low_level/#state) of the graph.\n",
        "\n",
        "The State schema serves as the input schema for all Nodes and Edges in the graph. This is basically the schema of the shared context or data messages passes throughout the graph across all the nodes and edges.\n",
        "\n",
        "Let's use the `TypedDict` class from python's `typing` module as our schema, which provides type hints for the keys."
      ]
    },
    {
      "cell_type": "code",
      "execution_count": null,
      "id": "6a90709b-ddfa-4671-8acc-c59969a29991",
      "metadata": {
        "id": "6a90709b-ddfa-4671-8acc-c59969a29991"
      },
      "outputs": [],
      "source": [
        "from typing_extensions import TypedDict\n",
        "\n",
        "class State(TypedDict):\n",
        "    messages: str"
      ]
    },
    {
      "cell_type": "markdown",
      "id": "888509e1-cbde-4c03-99a0-2560dd2e262d",
      "metadata": {
        "id": "888509e1-cbde-4c03-99a0-2560dd2e262d"
      },
      "source": [
        "## Nodes\n",
        "\n",
        "[Nodes](https://langchain-ai.github.io/langgraph/concepts/low_level/#nodes) are just python functions where we implement some custom logic, call some tools, LLMs etc.\n",
        "\n",
        "The first positional argument is the state, as defined above. This gives the node the current state of the agent including the latest output messages, previous inputs etc.\n",
        "\n",
        "Because the state is a `TypedDict` with schema as defined above, each node can access the key, `messages`, with `state['messages']`.\n",
        "\n",
        "Each node returns a new value of the state key `messages`.\n",
        "  \n",
        "By default, the new value returned by each node [will overwrite](https://langchain-ai.github.io/langgraph/concepts/low_level/#reducers) the prior state value. (We will show shortly how to update new values to the state instead of overwriting)"
      ]
    },
    {
      "cell_type": "code",
      "execution_count": null,
      "id": "e8aabcb7-494c-4d35-be08-f81c76d75a6b",
      "metadata": {
        "id": "e8aabcb7-494c-4d35-be08-f81c76d75a6b"
      },
      "outputs": [],
      "source": [
        "def node1_function(state: State) -> State:\n",
        "    print(\"---Processing Code in Node 1---\")\n",
        "    state = state['messages'] # extracting the current state dict (messages key - value)\n",
        "    print('Current State before Node 1 executes is:', state)\n",
        "    return {\"messages\": \"Hello this is node 1\"} # agent state gets written with a new updated value <-- here messages value gets replaced with this string"
      ]
    },
    {
      "cell_type": "markdown",
      "source": [
        "## Edges\n",
        "\n",
        "[Edges](https://langchain-ai.github.io/langgraph/concepts/low_level/#edges) connect the nodes.\n",
        "\n",
        "Normal Edges are used if you want to *always* go from, for example, `node_1` to `node_2`."
      ],
      "metadata": {
        "id": "u1O6ubxEGshx"
      },
      "id": "u1O6ubxEGshx"
    },
    {
      "cell_type": "markdown",
      "source": [
        "## Build the Graph with Nodes and Edges and the State"
      ],
      "metadata": {
        "id": "5o5AFN75G1ib"
      },
      "id": "5o5AFN75G1ib"
    },
    {
      "cell_type": "code",
      "source": [
        "from langgraph.graph import StateGraph, START, END\n",
        "from IPython.display import Image, display\n",
        "\n",
        "# Build graph\n",
        "builder = StateGraph(State)\n",
        "\n",
        "# Add nodes\n",
        "builder.add_node(\"node_1\", node1_function) # syntax is (name of the node, actual python function for the node)\n",
        "\n",
        "# Add edges\n",
        "builder.add_edge(START, \"node_1\")\n",
        "builder.add_edge(\"node_1\", END)\n",
        "\n",
        "# Compile graph\n",
        "graph = builder.compile()"
      ],
      "metadata": {
        "id": "IJvHs_Py3uCV"
      },
      "id": "IJvHs_Py3uCV",
      "execution_count": null,
      "outputs": []
    },
    {
      "cell_type": "code",
      "source": [
        "display(Image(graph.get_graph().draw_mermaid_png()))"
      ],
      "metadata": {
        "colab": {
          "base_uri": "https://localhost:8080/",
          "height": 251
        },
        "id": "m05f3SXX-c_I",
        "outputId": "47501f40-feea-42e8-a7ca-6462a6ece757"
      },
      "id": "m05f3SXX-c_I",
      "execution_count": null,
      "outputs": [
        {
          "output_type": "display_data",
          "data": {
            "image/png": "[encoded data removed]",
            "text/plain": [
              "<IPython.core.display.Image object>"
            ]
          },
          "metadata": {}
        }
      ]
    },
    {
      "cell_type": "markdown",
      "source": [
        "## Test the Graph"
      ],
      "metadata": {
        "id": "tAt1hK2AG6Bk"
      },
      "id": "tAt1hK2AG6Bk"
    },
    {
      "cell_type": "code",
      "source": [
        "response = graph.invoke({\"messages\": \"Hi, how are you?.\"})"
      ],
      "metadata": {
        "colab": {
          "base_uri": "https://localhost:8080/"
        },
        "id": "JR2L3D5Y3uH9",
        "outputId": "ef58c2bf-eac7-4cc0-d065-39fdac9d4778"
      },
      "id": "JR2L3D5Y3uH9",
      "execution_count": null,
      "outputs": [
        {
          "output_type": "stream",
          "name": "stdout",
          "text": [
            "---Processing Code in Node 1---\n",
            "Current State before Node 1 executes is: Hi, how are you?.\n"
          ]
        }
      ]
    },
    {
      "cell_type": "code",
      "source": [
        "response"
      ],
      "metadata": {
        "colab": {
          "base_uri": "https://localhost:8080/"
        },
        "id": "6WCFiVVpfXxb",
        "outputId": "bc4a9549-d55a-48e5-c07a-88c3a9916dfa"
      },
      "id": "6WCFiVVpfXxb",
      "execution_count": null,
      "outputs": [
        {
          "output_type": "execute_result",
          "data": {
            "text/plain": [
              "{'messages': 'Hello this is node 1'}"
            ]
          },
          "metadata": {},
          "execution_count": 10
        }
      ]
    },
    {
      "cell_type": "markdown",
      "source": [
        "## Graph with custom State Schema\n",
        "\n",
        "You can define your own state schema with multiple fields and manipulate them inside the graph as shown below"
      ],
      "metadata": {
        "id": "iFOUd7RLHBwg"
      },
      "id": "iFOUd7RLHBwg"
    },
    {
      "cell_type": "code",
      "source": [
        "from langgraph.graph import StateGraph, START, END\n",
        "\n",
        "# Define the state structure\n",
        "class State(TypedDict):\n",
        "    data: str\n",
        "    counter: int\n",
        "\n",
        "# Initialize the StateGraph with the state schema\n",
        "graph_builder = StateGraph(State)\n",
        "\n",
        "# Add nodes and edges to your graph\n",
        "# Define a node that processes the state\n",
        "def process_data_node(state: State) -> State:\n",
        "    print(f\"Current data: {state['data']}, Counter: {state['counter']}\")\n",
        "    print('Changing data and counter values now...')\n",
        "    return {\"data\": state[\"data\"].upper(), \"counter\": state[\"counter\"] + 1}\n",
        "\n",
        "# Add the node AND edges to the graph\n",
        "graph_builder.add_node(\"process_data\", process_data_node)\n",
        "\n",
        "graph_builder.add_edge(START, \"process_data\")\n",
        "graph_builder.add_edge(\"process_data\", END)\n",
        "\n",
        "# Compile the graph\n",
        "graph = graph_builder.compile()"
      ],
      "metadata": {
        "id": "Pp5IhgSF3uKA"
      },
      "id": "Pp5IhgSF3uKA",
      "execution_count": null,
      "outputs": []
    },
    {
      "cell_type": "code",
      "source": [
        "display(Image(graph.get_graph().draw_mermaid_png()))"
      ],
      "metadata": {
        "colab": {
          "base_uri": "https://localhost:8080/",
          "height": 251
        },
        "id": "gEji1u3MX9OR",
        "outputId": "422b8c03-37bc-42de-d64a-bb714a18b26b"
      },
      "id": "gEji1u3MX9OR",
      "execution_count": null,
      "outputs": [
        {
          "output_type": "display_data",
          "data": {
            "image/png": "[encoded data removed]",
            "text/plain": [
              "<IPython.core.display.Image object>"
            ]
          },
          "metadata": {}
        }
      ]
    },
    {
      "cell_type": "code",
      "source": [
        "# Execute the graph with an initial state\n",
        "initial_state = {\"data\": \"hello world\", \"counter\": 0}\n",
        "result = graph.invoke(initial_state)"
      ],
      "metadata": {
        "colab": {
          "base_uri": "https://localhost:8080/"
        },
        "id": "Skdc5uhvR7At",
        "outputId": "104450db-109a-4e7d-bdc5-0df9acb66fe3"
      },
      "id": "Skdc5uhvR7At",
      "execution_count": null,
      "outputs": [
        {
          "output_type": "stream",
          "name": "stdout",
          "text": [
            "Current data: hello world, Counter: 0\n",
            "Changing data and counter values now...\n"
          ]
        }
      ]
    },
    {
      "cell_type": "code",
      "source": [
        "# Print the result\n",
        "print(\"Final State:\", result)"
      ],
      "metadata": {
        "colab": {
          "base_uri": "https://localhost:8080/"
        },
        "id": "Y-Jw80U1f26S",
        "outputId": "968c2990-60cd-4b2e-e8e1-a4ed182d0315"
      },
      "id": "Y-Jw80U1f26S",
      "execution_count": null,
      "outputs": [
        {
          "output_type": "stream",
          "name": "stdout",
          "text": [
            "Final State: {'data': 'HELLO WORLD', 'counter': 1}\n"
          ]
        }
      ]
    },
    {
      "cell_type": "code",
      "source": [
        "graph.invoke(result)"
      ],
      "metadata": {
        "colab": {
          "base_uri": "https://localhost:8080/"
        },
        "id": "qSjjb1jzErSD",
        "outputId": "089e1d52-1691-4b46-d7ef-ab5df0b498ec"
      },
      "id": "qSjjb1jzErSD",
      "execution_count": null,
      "outputs": [
        {
          "output_type": "stream",
          "name": "stdout",
          "text": [
            "Current data: HELLO WORLD, Counter: 1\n",
            "Changing data and counter values now...\n"
          ]
        },
        {
          "output_type": "execute_result",
          "data": {
            "text/plain": [
              "{'data': 'HELLO WORLD', 'counter': 2}"
            ]
          },
          "metadata": {},
          "execution_count": 16
        }
      ]
    },
    {
      "cell_type": "markdown",
      "source": [
        "## Graph with multiple processing nodes\n",
        "\n",
        "So far we have built a graph with one node, lets now build one with three processing nodes and update (and overwrite) the overall state of the agent in each node"
      ],
      "metadata": {
        "id": "VBnnQo_cHS40"
      },
      "id": "VBnnQo_cHS40"
    },
    {
      "cell_type": "code",
      "source": [
        "from typing_extensions import TypedDict\n",
        "\n",
        "# Agent state\n",
        "class State(TypedDict):\n",
        "    messages: str"
      ],
      "metadata": {
        "id": "xG5z3i4kH88n"
      },
      "id": "xG5z3i4kH88n",
      "execution_count": null,
      "outputs": []
    },
    {
      "cell_type": "code",
      "source": [
        "# Define agent node functions\n",
        "def node1_func(state: State) -> State:\n",
        "    print(\"---Processing Code in Node 1---\")\n",
        "    state = state['messages']\n",
        "    print('State of messages key before Node 1:', state)\n",
        "    return {\"messages\": \"Hello this is node 1\"}\n",
        "\n",
        "def node2_func(state):\n",
        "    print(\"---Processing Code in Node 2---\")\n",
        "    state = state['messages']\n",
        "    print('State of messages key before Node 2:', state)\n",
        "    return {\"messages\": \"Hello this is node 2\"}\n",
        "\n",
        "def final_node_func(state):\n",
        "    print(\"---Processing Code in Final Node---\")\n",
        "    state = state['messages']\n",
        "    print('State of messages key before Final Node:', state)\n",
        "    return {\"messages\": \"Hello this is the final node\"}"
      ],
      "metadata": {
        "id": "JTCvoMus3uMo"
      },
      "id": "JTCvoMus3uMo",
      "execution_count": null,
      "outputs": []
    },
    {
      "cell_type": "code",
      "source": [
        "# Build graph\n",
        "builder = StateGraph(State)\n",
        "\n",
        "# Add nodes\n",
        "builder.add_node(\"node_1\", node1_func)\n",
        "builder.add_node(\"node_2\", node2_func)\n",
        "builder.add_node(\"node_3\", final_node_func)\n",
        "\n",
        "# Add edges\n",
        "builder.add_edge(START, \"node_1\")\n",
        "builder.add_edge(\"node_1\", \"node_2\")\n",
        "builder.add_edge(\"node_2\", \"node_3\")\n",
        "builder.add_edge(\"node_3\", END)\n",
        "\n",
        "# Compile\n",
        "graph = builder.compile()"
      ],
      "metadata": {
        "id": "l6Mmlmma4pmu"
      },
      "id": "l6Mmlmma4pmu",
      "execution_count": null,
      "outputs": []
    },
    {
      "cell_type": "code",
      "source": [
        "# View\n",
        "display(Image(graph.get_graph().draw_mermaid_png()))"
      ],
      "metadata": {
        "colab": {
          "base_uri": "https://localhost:8080/",
          "height": 449
        },
        "id": "d1gmwFpI-y-x",
        "outputId": "648bbf47-94e2-4858-d33f-9f992294f5a9"
      },
      "id": "d1gmwFpI-y-x",
      "execution_count": null,
      "outputs": [
        {
          "output_type": "display_data",
          "data": {
            "image/png": "[encoded data removed]",
            "text/plain": [
              "<IPython.core.display.Image object>"
            ]
          },
          "metadata": {}
        }
      ]
    },
    {
      "cell_type": "code",
      "source": [
        "response = graph.invoke({\"messages\": \"Hi, how are you?.\"})"
      ],
      "metadata": {
        "colab": {
          "base_uri": "https://localhost:8080/"
        },
        "id": "4bVyl9RX47tn",
        "outputId": "8efa90ae-78bc-4bae-c9ce-64727bb91316"
      },
      "id": "4bVyl9RX47tn",
      "execution_count": null,
      "outputs": [
        {
          "output_type": "stream",
          "name": "stdout",
          "text": [
            "---Processing Code in Node 1---\n",
            "State of messages key before Node 1: Hi, how are you?.\n",
            "---Processing Code in Node 2---\n",
            "State of messages key before Node 2: Hello this is node 1\n",
            "---Processing Code in Final Node---\n",
            "State of messages key before Final Node: Hello this is node 2\n"
          ]
        }
      ]
    },
    {
      "cell_type": "code",
      "source": [
        "response"
      ],
      "metadata": {
        "colab": {
          "base_uri": "https://localhost:8080/"
        },
        "id": "qgVh3fbyYqeH",
        "outputId": "4d6ff070-f415-42ce-e194-32e608d5f28d"
      },
      "id": "qgVh3fbyYqeH",
      "execution_count": null,
      "outputs": [
        {
          "output_type": "execute_result",
          "data": {
            "text/plain": [
              "{'messages': 'Hello this is the final node'}"
            ]
          },
          "metadata": {},
          "execution_count": 33
        }
      ]
    },
    {
      "cell_type": "markdown",
      "source": [
        "The state gets overwritten each time in each node which is something which we do not want. We want the agent to be aware of what is happening in each node and store all the intermediate messages also.\n",
        "\n",
        "Imagine a tool call happening only to get overwritten by something else!\n",
        "\n",
        "This is where reducer functions can be used to update and append to the overall agent's state schema instead of overwriting"
      ],
      "metadata": {
        "id": "R_cIq_M2IAdA"
      },
      "id": "R_cIq_M2IAdA"
    },
    {
      "cell_type": "markdown",
      "source": [
        "## Graph with multiple processing nodes\n",
        "\n",
        "So far we have built a graph with one node, lets now build one with three processing nodes and update the overall state of the agent in each node without overwriting the overall state"
      ],
      "metadata": {
        "id": "oLAPfQ7BIYcm"
      },
      "id": "oLAPfQ7BIYcm"
    },
    {
      "cell_type": "code",
      "source": [
        "from typing import Annotated\n",
        "from langgraph.graph.message import add_messages\n",
        "\n",
        "# Define Agent State\n",
        "class State(TypedDict):\n",
        "    messages: Annotated[list, add_messages] # the reducer helps in appending to the state\n",
        "\n",
        "# Define agent node functions\n",
        "def node1_func(state: State) -> State:\n",
        "    print(\"---Processing Code in Node 1---\")\n",
        "    state = state['messages']\n",
        "    print('State of messages key before Node 1:', state)\n",
        "    return {\"messages\": \"Hello this is node 1\"}\n",
        "\n",
        "def node2_func(state):\n",
        "    print(\"---Processing Code in Node 2---\")\n",
        "    state = state['messages']\n",
        "    print('State of messages key before Node 2:', state)\n",
        "    return {\"messages\": \"Hello this is node 2\"}\n",
        "\n",
        "def final_node_func(state):\n",
        "    print(\"---Processing Code in Final Node---\")\n",
        "    state = state['messages']\n",
        "    print('State of messages key before Final Node:', state)\n",
        "    return {\"messages\": \"Hello this is the final node\"}\n",
        "\n",
        "# Build graph\n",
        "builder = StateGraph(State)\n",
        "builder.add_node(\"node_1\", node1_func)\n",
        "builder.add_node(\"node_2\", node2_func)\n",
        "builder.add_node(\"node_3\", final_node_func)\n",
        "\n",
        "# Logic\n",
        "builder.add_edge(START, \"node_1\")\n",
        "builder.add_edge(\"node_1\", \"node_2\")\n",
        "builder.add_edge(\"node_2\", \"node_3\")\n",
        "builder.add_edge(\"node_3\", END)\n",
        "\n",
        "\n",
        "# Add\n",
        "graph = builder.compile()"
      ],
      "metadata": {
        "id": "5eCXQdqL4_pD"
      },
      "id": "5eCXQdqL4_pD",
      "execution_count": null,
      "outputs": []
    },
    {
      "cell_type": "code",
      "source": [
        "# View\n",
        "display(Image(graph.get_graph().draw_mermaid_png()))"
      ],
      "metadata": {
        "colab": {
          "base_uri": "https://localhost:8080/",
          "height": 449
        },
        "id": "XE7lZPGk-2oh",
        "outputId": "1b3d59fd-db3a-4779-a59c-909a5c3cf910"
      },
      "id": "XE7lZPGk-2oh",
      "execution_count": null,
      "outputs": [
        {
          "output_type": "display_data",
          "data": {
            "image/png": "[encoded data removed]",
            "text/plain": [
              "<IPython.core.display.Image object>"
            ]
          },
          "metadata": {}
        }
      ]
    },
    {
      "cell_type": "code",
      "source": [
        "response = graph.invoke({\"messages\": \"Hi, how are you?.\"})"
      ],
      "metadata": {
        "colab": {
          "base_uri": "https://localhost:8080/"
        },
        "id": "tynHTQXeEkli",
        "outputId": "057a9333-7539-4da2-f9e2-efb1c682a3ae"
      },
      "id": "tynHTQXeEkli",
      "execution_count": null,
      "outputs": [
        {
          "output_type": "stream",
          "name": "stdout",
          "text": [
            "---Processing Code in Node 1---\n",
            "State of messages key before Node 1: [HumanMessage(content='Hi, how are you?.', additional_kwargs={}, response_metadata={}, id='2712ce4f-7210-4fb6-afce-ea8264ca4991')]\n",
            "---Processing Code in Node 2---\n",
            "State of messages key before Node 2: [HumanMessage(content='Hi, how are you?.', additional_kwargs={}, response_metadata={}, id='2712ce4f-7210-4fb6-afce-ea8264ca4991'), HumanMessage(content='Hello this is node 1', additional_kwargs={}, response_metadata={}, id='3bb1800e-2d69-4cea-9b82-0351841c585d')]\n",
            "---Processing Code in Final Node---\n",
            "State of messages key before Final Node: [HumanMessage(content='Hi, how are you?.', additional_kwargs={}, response_metadata={}, id='2712ce4f-7210-4fb6-afce-ea8264ca4991'), HumanMessage(content='Hello this is node 1', additional_kwargs={}, response_metadata={}, id='3bb1800e-2d69-4cea-9b82-0351841c585d'), HumanMessage(content='Hello this is node 2', additional_kwargs={}, response_metadata={}, id='c8fbc229-b27e-4058-a854-18e36cc6b676')]\n"
          ]
        }
      ]
    },
    {
      "cell_type": "code",
      "source": [
        "response"
      ],
      "metadata": {
        "id": "6uGXxt0RuOpb",
        "outputId": "68738edf-4c5d-4fa3-a08b-d03fd55efedf",
        "colab": {
          "base_uri": "https://localhost:8080/"
        }
      },
      "id": "6uGXxt0RuOpb",
      "execution_count": null,
      "outputs": [
        {
          "output_type": "execute_result",
          "data": {
            "text/plain": [
              "{'messages': [HumanMessage(content='Hi, how are you?.', additional_kwargs={}, response_metadata={}, id='2712ce4f-7210-4fb6-afce-ea8264ca4991'),\n",
              "  HumanMessage(content='Hello this is node 1', additional_kwargs={}, response_metadata={}, id='3bb1800e-2d69-4cea-9b82-0351841c585d'),\n",
              "  HumanMessage(content='Hello this is node 2', additional_kwargs={}, response_metadata={}, id='c8fbc229-b27e-4058-a854-18e36cc6b676'),\n",
              "  HumanMessage(content='Hello this is the final node', additional_kwargs={}, response_metadata={}, id='97742b40-cffb-400d-9764-16f059a70948')]}"
            ]
          },
          "metadata": {},
          "execution_count": 38
        }
      ]
    },
    {
      "cell_type": "code",
      "source": [
        "response['messages'][-1].content"
      ],
      "metadata": {
        "id": "ksqAzjYzo7k8",
        "colab": {
          "base_uri": "https://localhost:8080/",
          "height": 35
        },
        "outputId": "eec88734-6b5b-4a50-d985-13a4f40b0889"
      },
      "id": "ksqAzjYzo7k8",
      "execution_count": null,
      "outputs": [
        {
          "output_type": "execute_result",
          "data": {
            "text/plain": [
              "'Hello this is the final node'"
            ],
            "application/vnd.google.colaboratory.intrinsic+json": {
              "type": "string"
            }
          },
          "metadata": {},
          "execution_count": 40
        }
      ]
    }
  ],
  "metadata": {
    "kernelspec": {
      "display_name": "Python 3 (ipykernel)",
      "language": "python",
      "name": "python3"
    },
    "language_info": {
      "codemirror_mode": {
        "name": "ipython",
        "version": 3
      },
      "file_extension": ".py",
      "mimetype": "text/x-python",
      "name": "python",
      "nbconvert_exporter": "python",
      "pygments_lexer": "ipython3",
      "version": "3.12.1"
    },
    "colab": {
      "provenance": [],
      "include_colab_link": true
    }
  },
  "nbformat": 4,
  "nbformat_minor": 5
}